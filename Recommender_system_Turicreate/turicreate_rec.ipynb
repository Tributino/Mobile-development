{
 "cells": [
  {
   "cell_type": "code",
   "execution_count": 2,
   "metadata": {},
   "outputs": [],
   "source": [
    "import turicreate as tc\n",
    "import pandas as pd\n",
    "import csv"
   ]
  },
  {
   "cell_type": "code",
   "execution_count": 121,
   "metadata": {},
   "outputs": [
    {
     "name": "stdout",
     "output_type": "stream",
     "text": [
      "writing completed\n"
     ]
    }
   ],
   "source": [
    "users = ['Alex', 'Ali', 'Ivaldo', 'Cris', 'John', 'Sophia', 'Karine']\n",
    "\n",
    "data = [{'id' : 1, 'name': 'Alex', 'city_id': 1},\n",
    "      {'id' : 2, 'name': 'Ali', 'city_id': 1},\n",
    "      {'id' : 3, 'name': 'Ivaldo', 'city_id': 1},\n",
    "      {'id' : 4, 'name': 'Cris', 'city_id': 1},\n",
    "      {'id' : 5, 'name': 'John', 'city_id': 1},\n",
    "      {'id' : 6, 'name': 'Sophia', 'city_id': 1},\n",
    "      {'id' : 7, 'name': 'Karine', 'city_id': 1}]\n",
    "\n",
    "with open('users.csv', 'w') as csvFile:\n",
    "    fields = ['id', 'name', 'city_id']\n",
    "    writer = csv.DictWriter(csvFile, fieldnames=fields)\n",
    "    writer.writeheader()\n",
    "    writer.writerows(data)\n",
    "\n",
    "print(\"writing completed\")\n",
    "\n",
    "csvFile.close()"
   ]
  },
  {
   "cell_type": "code",
   "execution_count": 122,
   "metadata": {},
   "outputs": [
    {
     "data": {
      "text/html": [
       "<div>\n",
       "<style scoped>\n",
       "    .dataframe tbody tr th:only-of-type {\n",
       "        vertical-align: middle;\n",
       "    }\n",
       "\n",
       "    .dataframe tbody tr th {\n",
       "        vertical-align: top;\n",
       "    }\n",
       "\n",
       "    .dataframe thead th {\n",
       "        text-align: right;\n",
       "    }\n",
       "</style>\n",
       "<table border=\"1\" class=\"dataframe\">\n",
       "  <thead>\n",
       "    <tr style=\"text-align: right;\">\n",
       "      <th></th>\n",
       "      <th>id</th>\n",
       "      <th>name</th>\n",
       "      <th>city_id</th>\n",
       "    </tr>\n",
       "  </thead>\n",
       "  <tbody>\n",
       "    <tr>\n",
       "      <th>0</th>\n",
       "      <td>1</td>\n",
       "      <td>Alex</td>\n",
       "      <td>1</td>\n",
       "    </tr>\n",
       "    <tr>\n",
       "      <th>1</th>\n",
       "      <td>2</td>\n",
       "      <td>Ali</td>\n",
       "      <td>1</td>\n",
       "    </tr>\n",
       "    <tr>\n",
       "      <th>2</th>\n",
       "      <td>3</td>\n",
       "      <td>Ivaldo</td>\n",
       "      <td>1</td>\n",
       "    </tr>\n",
       "    <tr>\n",
       "      <th>3</th>\n",
       "      <td>4</td>\n",
       "      <td>Cris</td>\n",
       "      <td>1</td>\n",
       "    </tr>\n",
       "    <tr>\n",
       "      <th>4</th>\n",
       "      <td>5</td>\n",
       "      <td>John</td>\n",
       "      <td>1</td>\n",
       "    </tr>\n",
       "    <tr>\n",
       "      <th>5</th>\n",
       "      <td>6</td>\n",
       "      <td>Sophia</td>\n",
       "      <td>1</td>\n",
       "    </tr>\n",
       "    <tr>\n",
       "      <th>6</th>\n",
       "      <td>7</td>\n",
       "      <td>Karine</td>\n",
       "      <td>1</td>\n",
       "    </tr>\n",
       "  </tbody>\n",
       "</table>\n",
       "</div>"
      ],
      "text/plain": [
       "   id    name  city_id\n",
       "0   1    Alex        1\n",
       "1   2     Ali        1\n",
       "2   3  Ivaldo        1\n",
       "3   4    Cris        1\n",
       "4   5    John        1\n",
       "5   6  Sophia        1\n",
       "6   7  Karine        1"
      ]
     },
     "execution_count": 122,
     "metadata": {},
     "output_type": "execute_result"
    }
   ],
   "source": [
    "df_users = pd.read_csv('users.csv')\n",
    "df_users"
   ]
  },
  {
   "cell_type": "code",
   "execution_count": 125,
   "metadata": {},
   "outputs": [
    {
     "name": "stdout",
     "output_type": "stream",
     "text": [
      "writing completed\n"
     ]
    }
   ],
   "source": [
    "hotels = ['Hotel_1', 'Hotel_2', 'Hotel_3', 'Hotel_4','Hotel_5', 'Hotel_6', 'Hotel_7']\n",
    "\n",
    "data = [{'id' : 1, 'name': 'Hotel_1', 'website': 'www.Hotel_1.com', 'address' : 'XXX AAAAAAA, Vancouver', 'city_id': 1},\n",
    "      {'id' : 2, 'name': 'Hotel_2', 'website': 'www.Hotel_2.com', 'address' : 'XXX AAAAAAA, Vancouver', 'city_id': 1},\n",
    "      {'id' : 3, 'name': 'Hotel_3', 'website': 'www.Hotel_3.com', 'address' : 'XXX AAAAAAA, Vancouver', 'city_id': 1},\n",
    "      {'id' : 4, 'name': 'Hotel_4', 'website': 'www.Hotel_4.com', 'address' : 'XXX AAAAAAA, Vancouver', 'city_id': 1},\n",
    "      {'id' : 5, 'name': 'Hotel_5', 'website': 'www.Hotel_5.com', 'address' : 'XXX AAAAAAA, Vancouver', 'city_id': 1},\n",
    "      {'id' : 6, 'name': 'Hotel_6', 'website': 'www.Hotel_6.com', 'address' : 'XXX AAAAAAA, Vancouver', 'city_id': 1},\n",
    "      {'id' : 7, 'name': 'Hotel_7', 'website': 'www.Hotel_7.com', 'address' : 'XXX AAAAAAA, Vancouver', 'city_id': 1}]\n",
    "\n",
    "with open('hotels.csv', 'w') as csvFile:\n",
    "    fields = ['id', 'name', 'website', 'address', 'city_id']\n",
    "    writer = csv.DictWriter(csvFile, fieldnames=fields)\n",
    "    writer.writeheader()\n",
    "    writer.writerows(data)\n",
    "\n",
    "print(\"writing completed\")\n",
    "\n",
    "csvFile.close()"
   ]
  },
  {
   "cell_type": "code",
   "execution_count": 126,
   "metadata": {},
   "outputs": [
    {
     "data": {
      "text/html": [
       "<div>\n",
       "<style scoped>\n",
       "    .dataframe tbody tr th:only-of-type {\n",
       "        vertical-align: middle;\n",
       "    }\n",
       "\n",
       "    .dataframe tbody tr th {\n",
       "        vertical-align: top;\n",
       "    }\n",
       "\n",
       "    .dataframe thead th {\n",
       "        text-align: right;\n",
       "    }\n",
       "</style>\n",
       "<table border=\"1\" class=\"dataframe\">\n",
       "  <thead>\n",
       "    <tr style=\"text-align: right;\">\n",
       "      <th></th>\n",
       "      <th>id</th>\n",
       "      <th>name</th>\n",
       "      <th>website</th>\n",
       "      <th>address</th>\n",
       "      <th>city_id</th>\n",
       "    </tr>\n",
       "  </thead>\n",
       "  <tbody>\n",
       "    <tr>\n",
       "      <th>0</th>\n",
       "      <td>1</td>\n",
       "      <td>Hotel_1</td>\n",
       "      <td>www.Hotel_1.com</td>\n",
       "      <td>XXX AAAAAAA, Vancouver</td>\n",
       "      <td>1</td>\n",
       "    </tr>\n",
       "    <tr>\n",
       "      <th>1</th>\n",
       "      <td>2</td>\n",
       "      <td>Hotel_2</td>\n",
       "      <td>www.Hotel_2.com</td>\n",
       "      <td>XXX AAAAAAA, Vancouver</td>\n",
       "      <td>1</td>\n",
       "    </tr>\n",
       "    <tr>\n",
       "      <th>2</th>\n",
       "      <td>3</td>\n",
       "      <td>Hotel_3</td>\n",
       "      <td>www.Hotel_3.com</td>\n",
       "      <td>XXX AAAAAAA, Vancouver</td>\n",
       "      <td>1</td>\n",
       "    </tr>\n",
       "    <tr>\n",
       "      <th>3</th>\n",
       "      <td>4</td>\n",
       "      <td>Hotel_4</td>\n",
       "      <td>www.Hotel_4.com</td>\n",
       "      <td>XXX AAAAAAA, Vancouver</td>\n",
       "      <td>1</td>\n",
       "    </tr>\n",
       "    <tr>\n",
       "      <th>4</th>\n",
       "      <td>5</td>\n",
       "      <td>Hotel_5</td>\n",
       "      <td>www.Hotel_5.com</td>\n",
       "      <td>XXX AAAAAAA, Vancouver</td>\n",
       "      <td>1</td>\n",
       "    </tr>\n",
       "    <tr>\n",
       "      <th>5</th>\n",
       "      <td>6</td>\n",
       "      <td>Hotel_6</td>\n",
       "      <td>www.Hotel_6.com</td>\n",
       "      <td>XXX AAAAAAA, Vancouver</td>\n",
       "      <td>1</td>\n",
       "    </tr>\n",
       "    <tr>\n",
       "      <th>6</th>\n",
       "      <td>7</td>\n",
       "      <td>Hotel_7</td>\n",
       "      <td>www.Hotel_7.com</td>\n",
       "      <td>XXX AAAAAAA, Vancouver</td>\n",
       "      <td>1</td>\n",
       "    </tr>\n",
       "  </tbody>\n",
       "</table>\n",
       "</div>"
      ],
      "text/plain": [
       "   id     name          website                 address  city_id\n",
       "0   1  Hotel_1  www.Hotel_1.com  XXX AAAAAAA, Vancouver        1\n",
       "1   2  Hotel_2  www.Hotel_2.com  XXX AAAAAAA, Vancouver        1\n",
       "2   3  Hotel_3  www.Hotel_3.com  XXX AAAAAAA, Vancouver        1\n",
       "3   4  Hotel_4  www.Hotel_4.com  XXX AAAAAAA, Vancouver        1\n",
       "4   5  Hotel_5  www.Hotel_5.com  XXX AAAAAAA, Vancouver        1\n",
       "5   6  Hotel_6  www.Hotel_6.com  XXX AAAAAAA, Vancouver        1\n",
       "6   7  Hotel_7  www.Hotel_7.com  XXX AAAAAAA, Vancouver        1"
      ]
     },
     "execution_count": 126,
     "metadata": {},
     "output_type": "execute_result"
    }
   ],
   "source": [
    "df_hotels = pd.read_csv('hotels.csv')\n",
    "df_hotels"
   ]
  },
  {
   "cell_type": "code",
   "execution_count": 127,
   "metadata": {},
   "outputs": [
    {
     "name": "stdout",
     "output_type": "stream",
     "text": [
      "writing completed\n"
     ]
    }
   ],
   "source": [
    "features = ['Pool', 'Workout_Room', 'Free_Internet', 'Breakfast', 'Meeting_Rooms', 'Non_Smoking_Hotel', \n",
    "            'Bar', 'Laundry_service', 'Multilingual_Staff', 'Pets_Allowed',\n",
    "           'Wheelchair_Access', 'Refrigerator_in_room', 'Air_Conditioning']\n",
    "\n",
    "data = [{'id' : 1, 'name': 'Pool'},\n",
    "      {'id' : 2, 'name': 'Workout_Room'},\n",
    "      {'id' : 3, 'name': 'Free_Internet'},\n",
    "      {'id' : 4, 'name': 'Breakfast'},\n",
    "      {'id' : 5, 'name': 'Meeting_Rooms'},\n",
    "      {'id' : 6, 'name': 'Non_Smoking_Hotel'},\n",
    "      {'id' : 7, 'name': 'Bar'},\n",
    "      {'id' : 8, 'name': 'Laundry_service'},\n",
    "      {'id' : 9, 'name': 'Multilingual_Staff'},\n",
    "      {'id' : 10, 'name': 'Pets_Allowed'},\n",
    "      {'id' : 11, 'name': 'Wheelchair_Access'},\n",
    "      {'id' : 12, 'name': 'Refrigerator_in_room'},\n",
    "      {'id' : 13, 'name': 'Air_Conditioning'}]\n",
    "\n",
    "with open('features.csv', 'w') as csvFile:\n",
    "    fields = ['id', 'name']\n",
    "    writer = csv.DictWriter(csvFile, fieldnames=fields)\n",
    "    writer.writeheader()\n",
    "    writer.writerows(data)\n",
    "\n",
    "print(\"writing completed\")\n",
    "\n",
    "csvFile.close()\n"
   ]
  },
  {
   "cell_type": "code",
   "execution_count": 128,
   "metadata": {},
   "outputs": [
    {
     "data": {
      "text/html": [
       "<div>\n",
       "<style scoped>\n",
       "    .dataframe tbody tr th:only-of-type {\n",
       "        vertical-align: middle;\n",
       "    }\n",
       "\n",
       "    .dataframe tbody tr th {\n",
       "        vertical-align: top;\n",
       "    }\n",
       "\n",
       "    .dataframe thead th {\n",
       "        text-align: right;\n",
       "    }\n",
       "</style>\n",
       "<table border=\"1\" class=\"dataframe\">\n",
       "  <thead>\n",
       "    <tr style=\"text-align: right;\">\n",
       "      <th></th>\n",
       "      <th>id</th>\n",
       "      <th>name</th>\n",
       "    </tr>\n",
       "  </thead>\n",
       "  <tbody>\n",
       "    <tr>\n",
       "      <th>0</th>\n",
       "      <td>1</td>\n",
       "      <td>Pool</td>\n",
       "    </tr>\n",
       "    <tr>\n",
       "      <th>1</th>\n",
       "      <td>2</td>\n",
       "      <td>Workout_Room</td>\n",
       "    </tr>\n",
       "    <tr>\n",
       "      <th>2</th>\n",
       "      <td>3</td>\n",
       "      <td>Free_Internet</td>\n",
       "    </tr>\n",
       "    <tr>\n",
       "      <th>3</th>\n",
       "      <td>4</td>\n",
       "      <td>Breakfast</td>\n",
       "    </tr>\n",
       "    <tr>\n",
       "      <th>4</th>\n",
       "      <td>5</td>\n",
       "      <td>Meeting_Rooms</td>\n",
       "    </tr>\n",
       "    <tr>\n",
       "      <th>5</th>\n",
       "      <td>6</td>\n",
       "      <td>Non_Smoking_Hotel</td>\n",
       "    </tr>\n",
       "    <tr>\n",
       "      <th>6</th>\n",
       "      <td>7</td>\n",
       "      <td>Bar</td>\n",
       "    </tr>\n",
       "    <tr>\n",
       "      <th>7</th>\n",
       "      <td>8</td>\n",
       "      <td>Laundry_service</td>\n",
       "    </tr>\n",
       "    <tr>\n",
       "      <th>8</th>\n",
       "      <td>9</td>\n",
       "      <td>Multilingual_Staff</td>\n",
       "    </tr>\n",
       "    <tr>\n",
       "      <th>9</th>\n",
       "      <td>10</td>\n",
       "      <td>Pets_Allowed</td>\n",
       "    </tr>\n",
       "    <tr>\n",
       "      <th>10</th>\n",
       "      <td>11</td>\n",
       "      <td>Wheelchair_Access</td>\n",
       "    </tr>\n",
       "    <tr>\n",
       "      <th>11</th>\n",
       "      <td>12</td>\n",
       "      <td>Refrigerator_in_room</td>\n",
       "    </tr>\n",
       "    <tr>\n",
       "      <th>12</th>\n",
       "      <td>13</td>\n",
       "      <td>Air_Conditioning</td>\n",
       "    </tr>\n",
       "  </tbody>\n",
       "</table>\n",
       "</div>"
      ],
      "text/plain": [
       "    id                  name\n",
       "0    1                  Pool\n",
       "1    2          Workout_Room\n",
       "2    3         Free_Internet\n",
       "3    4             Breakfast\n",
       "4    5         Meeting_Rooms\n",
       "5    6     Non_Smoking_Hotel\n",
       "6    7                   Bar\n",
       "7    8       Laundry_service\n",
       "8    9    Multilingual_Staff\n",
       "9   10          Pets_Allowed\n",
       "10  11     Wheelchair_Access\n",
       "11  12  Refrigerator_in_room\n",
       "12  13      Air_Conditioning"
      ]
     },
     "execution_count": 128,
     "metadata": {},
     "output_type": "execute_result"
    }
   ],
   "source": [
    "df_features = pd.read_csv('features.csv')\n",
    "df_features"
   ]
  },
  {
   "cell_type": "code",
   "execution_count": 129,
   "metadata": {},
   "outputs": [
    {
     "name": "stdout",
     "output_type": "stream",
     "text": [
      "writing completed\n"
     ]
    }
   ],
   "source": [
    "users_hotels = [[4, 6, 8, 0, 0, 0, 4],\n",
    "                [0, 0, 10, 0, 8, 3, 5],\n",
    "                [0, 6, 0, 0, 3, 7, 0],\n",
    "                [10, 9, 0, 5, 0, 2, 9],\n",
    "                [3, 6, 6, 0, 8, 0, 0],\n",
    "                [0, 1, 3, 0, 2, 0, 5],\n",
    "                [7, 0, 0, 0, 2, 8, 0]]\n",
    "\n",
    "data = [{'id' : 1, 'user_id': 1, 'hotel_id': 1, 'score': 2},\n",
    "      {'id' : 2, 'user_id': 1, 'hotel_id': 2, 'score': 3},\n",
    "      {'id' : 3, 'user_id': 1, 'hotel_id': 3, 'score': 4},\n",
    "      {'id' : 4, 'user_id': 1, 'hotel_id': 7, 'score': 2},\n",
    "      {'id' : 5, 'user_id': 2, 'hotel_id': 3, 'score': 5},\n",
    "      {'id' : 6, 'user_id': 2, 'hotel_id': 5, 'score': 4},\n",
    "      {'id' : 7, 'user_id': 2, 'hotel_id': 6, 'score': 1.5},\n",
    "      {'id' : 8, 'user_id': 2, 'hotel_id': 7, 'score': 2.5},\n",
    "      {'id' : 9, 'user_id': 3, 'hotel_id': 2, 'score': 3},\n",
    "      {'id' : 10, 'user_id': 3, 'hotel_id': 5, 'score': 1.5},\n",
    "      {'id' : 11, 'user_id': 3, 'hotel_id': 6, 'score': 3.5},\n",
    "      {'id' : 12, 'user_id': 4, 'hotel_id': 1, 'score': 5},\n",
    "      {'id' : 13, 'user_id': 4, 'hotel_id': 2, 'score': 4.5},\n",
    "      {'id' : 14, 'user_id': 4, 'hotel_id': 4, 'score': 2.5},\n",
    "      {'id' : 15, 'user_id': 4, 'hotel_id': 6, 'score': 1},\n",
    "      {'id' : 16, 'user_id': 4, 'hotel_id': 7, 'score': 4.5},\n",
    "      {'id' : 17, 'user_id': 5, 'hotel_id': 1, 'score': 1.5},\n",
    "      {'id' : 18, 'user_id': 5, 'hotel_id': 2, 'score': 3},\n",
    "      {'id' : 19, 'user_id': 5, 'hotel_id': 3, 'score': 3},\n",
    "      {'id' : 20, 'user_id': 5, 'hotel_id': 5, 'score': 4},\n",
    "      {'id' : 21, 'user_id': 6, 'hotel_id': 2, 'score': 0.5},\n",
    "      {'id' : 22, 'user_id': 6, 'hotel_id': 3, 'score': 1.5},\n",
    "      {'id' : 23, 'user_id': 6, 'hotel_id': 5, 'score': 1},\n",
    "      {'id' : 24, 'user_id': 6, 'hotel_id': 7, 'score': 2.5},\n",
    "      {'id' : 25, 'user_id': 7, 'hotel_id': 1, 'score': 3.5},\n",
    "      {'id' : 26, 'user_id': 7, 'hotel_id': 5, 'score': 1},\n",
    "      {'id' : 27, 'user_id': 7, 'hotel_id': 6, 'score': 4}]\n",
    "\n",
    "with open('users_hotels.csv', 'w') as csvFile:\n",
    "    fields = ['id', 'user_id', 'hotel_id', 'score']\n",
    "    writer = csv.DictWriter(csvFile, fieldnames=fields)\n",
    "    writer.writeheader()\n",
    "    writer.writerows(data)\n",
    "\n",
    "print(\"writing completed\")\n",
    "\n",
    "csvFile.close()"
   ]
  },
  {
   "cell_type": "code",
   "execution_count": 130,
   "metadata": {},
   "outputs": [
    {
     "data": {
      "text/html": [
       "<pre>Finished parsing file /Users/admin/Hotel-Recommendation-System/users_hotels.csv</pre>"
      ],
      "text/plain": [
       "Finished parsing file /Users/admin/Hotel-Recommendation-System/users_hotels.csv"
      ]
     },
     "metadata": {},
     "output_type": "display_data"
    },
    {
     "data": {
      "text/html": [
       "<pre>Parsing completed. Parsed 27 lines in 0.032508 secs.</pre>"
      ],
      "text/plain": [
       "Parsing completed. Parsed 27 lines in 0.032508 secs."
      ]
     },
     "metadata": {},
     "output_type": "display_data"
    },
    {
     "name": "stdout",
     "output_type": "stream",
     "text": [
      "------------------------------------------------------\n",
      "Inferred types from first 100 line(s) of file as \n",
      "column_type_hints=[int,int,int,float]\n",
      "If parsing fails due to incorrect types, you can correct\n",
      "the inferred type list above and pass it to read_csv in\n",
      "the column_type_hints argument\n",
      "------------------------------------------------------\n"
     ]
    },
    {
     "data": {
      "text/html": [
       "<pre>Finished parsing file /Users/admin/Hotel-Recommendation-System/users_hotels.csv</pre>"
      ],
      "text/plain": [
       "Finished parsing file /Users/admin/Hotel-Recommendation-System/users_hotels.csv"
      ]
     },
     "metadata": {},
     "output_type": "display_data"
    },
    {
     "data": {
      "text/html": [
       "<pre>Parsing completed. Parsed 27 lines in 0.008041 secs.</pre>"
      ],
      "text/plain": [
       "Parsing completed. Parsed 27 lines in 0.008041 secs."
      ]
     },
     "metadata": {},
     "output_type": "display_data"
    },
    {
     "data": {
      "text/html": [
       "<div style=\"max-height:1000px;max-width:1500px;overflow:auto;\"><table frame=\"box\" rules=\"cols\">\n",
       "    <tr>\n",
       "        <th style=\"padding-left: 1em; padding-right: 1em; text-align: center\">id</th>\n",
       "        <th style=\"padding-left: 1em; padding-right: 1em; text-align: center\">user_id</th>\n",
       "        <th style=\"padding-left: 1em; padding-right: 1em; text-align: center\">hotel_id</th>\n",
       "        <th style=\"padding-left: 1em; padding-right: 1em; text-align: center\">score</th>\n",
       "    </tr>\n",
       "    <tr>\n",
       "        <td style=\"padding-left: 1em; padding-right: 1em; text-align: center; vertical-align: top\">1</td>\n",
       "        <td style=\"padding-left: 1em; padding-right: 1em; text-align: center; vertical-align: top\">1</td>\n",
       "        <td style=\"padding-left: 1em; padding-right: 1em; text-align: center; vertical-align: top\">1</td>\n",
       "        <td style=\"padding-left: 1em; padding-right: 1em; text-align: center; vertical-align: top\">2.0</td>\n",
       "    </tr>\n",
       "    <tr>\n",
       "        <td style=\"padding-left: 1em; padding-right: 1em; text-align: center; vertical-align: top\">2</td>\n",
       "        <td style=\"padding-left: 1em; padding-right: 1em; text-align: center; vertical-align: top\">1</td>\n",
       "        <td style=\"padding-left: 1em; padding-right: 1em; text-align: center; vertical-align: top\">2</td>\n",
       "        <td style=\"padding-left: 1em; padding-right: 1em; text-align: center; vertical-align: top\">3.0</td>\n",
       "    </tr>\n",
       "    <tr>\n",
       "        <td style=\"padding-left: 1em; padding-right: 1em; text-align: center; vertical-align: top\">3</td>\n",
       "        <td style=\"padding-left: 1em; padding-right: 1em; text-align: center; vertical-align: top\">1</td>\n",
       "        <td style=\"padding-left: 1em; padding-right: 1em; text-align: center; vertical-align: top\">3</td>\n",
       "        <td style=\"padding-left: 1em; padding-right: 1em; text-align: center; vertical-align: top\">4.0</td>\n",
       "    </tr>\n",
       "    <tr>\n",
       "        <td style=\"padding-left: 1em; padding-right: 1em; text-align: center; vertical-align: top\">4</td>\n",
       "        <td style=\"padding-left: 1em; padding-right: 1em; text-align: center; vertical-align: top\">1</td>\n",
       "        <td style=\"padding-left: 1em; padding-right: 1em; text-align: center; vertical-align: top\">7</td>\n",
       "        <td style=\"padding-left: 1em; padding-right: 1em; text-align: center; vertical-align: top\">2.0</td>\n",
       "    </tr>\n",
       "    <tr>\n",
       "        <td style=\"padding-left: 1em; padding-right: 1em; text-align: center; vertical-align: top\">5</td>\n",
       "        <td style=\"padding-left: 1em; padding-right: 1em; text-align: center; vertical-align: top\">2</td>\n",
       "        <td style=\"padding-left: 1em; padding-right: 1em; text-align: center; vertical-align: top\">3</td>\n",
       "        <td style=\"padding-left: 1em; padding-right: 1em; text-align: center; vertical-align: top\">5.0</td>\n",
       "    </tr>\n",
       "    <tr>\n",
       "        <td style=\"padding-left: 1em; padding-right: 1em; text-align: center; vertical-align: top\">6</td>\n",
       "        <td style=\"padding-left: 1em; padding-right: 1em; text-align: center; vertical-align: top\">2</td>\n",
       "        <td style=\"padding-left: 1em; padding-right: 1em; text-align: center; vertical-align: top\">5</td>\n",
       "        <td style=\"padding-left: 1em; padding-right: 1em; text-align: center; vertical-align: top\">4.0</td>\n",
       "    </tr>\n",
       "    <tr>\n",
       "        <td style=\"padding-left: 1em; padding-right: 1em; text-align: center; vertical-align: top\">7</td>\n",
       "        <td style=\"padding-left: 1em; padding-right: 1em; text-align: center; vertical-align: top\">2</td>\n",
       "        <td style=\"padding-left: 1em; padding-right: 1em; text-align: center; vertical-align: top\">6</td>\n",
       "        <td style=\"padding-left: 1em; padding-right: 1em; text-align: center; vertical-align: top\">1.5</td>\n",
       "    </tr>\n",
       "    <tr>\n",
       "        <td style=\"padding-left: 1em; padding-right: 1em; text-align: center; vertical-align: top\">8</td>\n",
       "        <td style=\"padding-left: 1em; padding-right: 1em; text-align: center; vertical-align: top\">2</td>\n",
       "        <td style=\"padding-left: 1em; padding-right: 1em; text-align: center; vertical-align: top\">7</td>\n",
       "        <td style=\"padding-left: 1em; padding-right: 1em; text-align: center; vertical-align: top\">2.5</td>\n",
       "    </tr>\n",
       "    <tr>\n",
       "        <td style=\"padding-left: 1em; padding-right: 1em; text-align: center; vertical-align: top\">9</td>\n",
       "        <td style=\"padding-left: 1em; padding-right: 1em; text-align: center; vertical-align: top\">3</td>\n",
       "        <td style=\"padding-left: 1em; padding-right: 1em; text-align: center; vertical-align: top\">2</td>\n",
       "        <td style=\"padding-left: 1em; padding-right: 1em; text-align: center; vertical-align: top\">3.0</td>\n",
       "    </tr>\n",
       "    <tr>\n",
       "        <td style=\"padding-left: 1em; padding-right: 1em; text-align: center; vertical-align: top\">10</td>\n",
       "        <td style=\"padding-left: 1em; padding-right: 1em; text-align: center; vertical-align: top\">3</td>\n",
       "        <td style=\"padding-left: 1em; padding-right: 1em; text-align: center; vertical-align: top\">5</td>\n",
       "        <td style=\"padding-left: 1em; padding-right: 1em; text-align: center; vertical-align: top\">1.5</td>\n",
       "    </tr>\n",
       "</table>\n",
       "[27 rows x 4 columns]<br/>Note: Only the head of the SFrame is printed.<br/>You can use print_rows(num_rows=m, num_columns=n) to print more rows and columns.\n",
       "</div>"
      ],
      "text/plain": [
       "Columns:\n",
       "\tid\tint\n",
       "\tuser_id\tint\n",
       "\thotel_id\tint\n",
       "\tscore\tfloat\n",
       "\n",
       "Rows: 27\n",
       "\n",
       "Data:\n",
       "+----+---------+----------+-------+\n",
       "| id | user_id | hotel_id | score |\n",
       "+----+---------+----------+-------+\n",
       "| 1  |    1    |    1     |  2.0  |\n",
       "| 2  |    1    |    2     |  3.0  |\n",
       "| 3  |    1    |    3     |  4.0  |\n",
       "| 4  |    1    |    7     |  2.0  |\n",
       "| 5  |    2    |    3     |  5.0  |\n",
       "| 6  |    2    |    5     |  4.0  |\n",
       "| 7  |    2    |    6     |  1.5  |\n",
       "| 8  |    2    |    7     |  2.5  |\n",
       "| 9  |    3    |    2     |  3.0  |\n",
       "| 10 |    3    |    5     |  1.5  |\n",
       "+----+---------+----------+-------+\n",
       "[27 rows x 4 columns]\n",
       "Note: Only the head of the SFrame is printed.\n",
       "You can use print_rows(num_rows=m, num_columns=n) to print more rows and columns."
      ]
     },
     "execution_count": 130,
     "metadata": {},
     "output_type": "execute_result"
    }
   ],
   "source": [
    "df_users_hotels = tc.SFrame.read_csv('users_hotels.csv')\n",
    "df_users_hotels"
   ]
  },
  {
   "cell_type": "code",
   "execution_count": 131,
   "metadata": {},
   "outputs": [
    {
     "name": "stdout",
     "output_type": "stream",
     "text": [
      "writing completed\n"
     ]
    }
   ],
   "source": [
    "# features of the hotels one-hot encoded\n",
    "# e.g. columns represent the features \n",
    "hotels_feats = [[1, 1, 0, 0, 1, 1, 1, 0, 0, 1, 1, 1, 0],\n",
    "                [1, 1, 0, 0, 0, 1, 1, 0, 0, 0, 1, 1, 0],\n",
    "                [0, 0, 1, 1, 0, 0, 0, 1, 1, 0, 0, 0, 0],\n",
    "                [1, 0, 1, 1, 0, 1, 0, 1, 1, 0, 1, 0, 1],\n",
    "                [0, 0, 0, 0, 1, 0, 0, 0, 0, 1, 1, 1, 0],\n",
    "                [1, 0, 0, 0, 1, 1, 0, 0, 0, 1, 1, 0, 1],\n",
    "                [0, 1, 1, 0, 0, 0, 1, 1, 0, 0, 0, 1, 0]]\n",
    "\n",
    "data = [{'id' : 1, 'hotel_id': 1, 'feature_id': 1},\n",
    "      {'id' : 2, 'hotel_id': 1, 'feature_id': 2},\n",
    "      {'id' : 3, 'hotel_id': 1, 'feature_id': 5},\n",
    "      {'id' : 4, 'hotel_id': 1, 'feature_id': 6},\n",
    "      {'id' : 5, 'hotel_id': 1, 'feature_id': 7},\n",
    "      {'id' : 6, 'hotel_id': 1, 'feature_id': 10},\n",
    "      {'id' : 7, 'hotel_id': 1, 'feature_id': 11},\n",
    "      {'id' : 8, 'hotel_id': 1, 'feature_id': 12},\n",
    "      {'id' : 9, 'hotel_id': 2, 'feature_id': 1},\n",
    "      {'id' : 10, 'hotel_id': 2, 'feature_id': 2},\n",
    "      {'id' : 11, 'hotel_id': 2, 'feature_id': 6},\n",
    "      {'id' : 12, 'hotel_id': 2, 'feature_id': 7},\n",
    "      {'id' : 13, 'hotel_id': 2, 'feature_id': 11},\n",
    "      {'id' : 14, 'hotel_id': 2, 'feature_id': 12},\n",
    "      {'id' : 15, 'hotel_id': 3, 'feature_id': 3},\n",
    "      {'id' : 16, 'hotel_id': 3, 'feature_id': 4},\n",
    "      {'id' : 17, 'hotel_id': 3, 'feature_id': 8},\n",
    "      {'id' : 18, 'hotel_id': 3, 'feature_id': 9},\n",
    "      {'id' : 19, 'hotel_id': 4, 'feature_id': 1},\n",
    "      {'id' : 20, 'hotel_id': 4, 'feature_id': 3},\n",
    "      {'id' : 21, 'hotel_id': 4, 'feature_id': 4},\n",
    "      {'id' : 22, 'hotel_id': 4, 'feature_id': 6},\n",
    "      {'id' : 23, 'hotel_id': 4, 'feature_id': 8},\n",
    "      {'id' : 24, 'hotel_id': 4, 'feature_id': 9},\n",
    "      {'id' : 25, 'hotel_id': 4, 'feature_id': 10},\n",
    "      {'id' : 26, 'hotel_id': 4, 'feature_id': 11},\n",
    "      {'id' : 27, 'hotel_id': 5, 'feature_id': 5},\n",
    "      {'id' : 28, 'hotel_id': 5, 'feature_id': 10},\n",
    "      {'id' : 29, 'hotel_id': 5, 'feature_id': 11},\n",
    "      {'id' : 30, 'hotel_id': 5, 'feature_id': 12},\n",
    "      {'id' : 31, 'hotel_id': 6, 'feature_id': 1},\n",
    "      {'id' : 32, 'hotel_id': 6, 'feature_id': 5},\n",
    "      {'id' : 33, 'hotel_id': 6, 'feature_id': 6},\n",
    "      {'id' : 34, 'hotel_id': 6, 'feature_id': 10},\n",
    "      {'id' : 35, 'hotel_id': 6, 'feature_id': 11},\n",
    "      {'id' : 36, 'hotel_id': 6, 'feature_id': 13},\n",
    "      {'id' : 37, 'hotel_id': 7, 'feature_id': 2},\n",
    "      {'id' : 38, 'hotel_id': 7, 'feature_id': 3},\n",
    "      {'id' : 39, 'hotel_id': 7, 'feature_id': 7},\n",
    "      {'id' : 40, 'hotel_id': 7, 'feature_id': 8},\n",
    "      {'id' : 41, 'hotel_id': 7, 'feature_id': 12}]\n",
    "\n",
    "with open('hotels_features.csv', 'w') as csvFile:\n",
    "    fields = ['id', 'hotel_id', 'feature_id']\n",
    "    writer = csv.DictWriter(csvFile, fieldnames=fields)\n",
    "    writer.writeheader()\n",
    "    writer.writerows(data)\n",
    "\n",
    "print(\"writing completed\")\n",
    "\n",
    "csvFile.close()"
   ]
  },
  {
   "cell_type": "code",
   "execution_count": 132,
   "metadata": {},
   "outputs": [
    {
     "data": {
      "text/html": [
       "<div>\n",
       "<style scoped>\n",
       "    .dataframe tbody tr th:only-of-type {\n",
       "        vertical-align: middle;\n",
       "    }\n",
       "\n",
       "    .dataframe tbody tr th {\n",
       "        vertical-align: top;\n",
       "    }\n",
       "\n",
       "    .dataframe thead th {\n",
       "        text-align: right;\n",
       "    }\n",
       "</style>\n",
       "<table border=\"1\" class=\"dataframe\">\n",
       "  <thead>\n",
       "    <tr style=\"text-align: right;\">\n",
       "      <th></th>\n",
       "      <th>id</th>\n",
       "      <th>hotel_id</th>\n",
       "      <th>feature_id</th>\n",
       "    </tr>\n",
       "  </thead>\n",
       "  <tbody>\n",
       "    <tr>\n",
       "      <th>0</th>\n",
       "      <td>1</td>\n",
       "      <td>1</td>\n",
       "      <td>1</td>\n",
       "    </tr>\n",
       "    <tr>\n",
       "      <th>1</th>\n",
       "      <td>2</td>\n",
       "      <td>1</td>\n",
       "      <td>2</td>\n",
       "    </tr>\n",
       "    <tr>\n",
       "      <th>2</th>\n",
       "      <td>3</td>\n",
       "      <td>1</td>\n",
       "      <td>5</td>\n",
       "    </tr>\n",
       "    <tr>\n",
       "      <th>3</th>\n",
       "      <td>4</td>\n",
       "      <td>1</td>\n",
       "      <td>6</td>\n",
       "    </tr>\n",
       "    <tr>\n",
       "      <th>4</th>\n",
       "      <td>5</td>\n",
       "      <td>1</td>\n",
       "      <td>7</td>\n",
       "    </tr>\n",
       "    <tr>\n",
       "      <th>5</th>\n",
       "      <td>6</td>\n",
       "      <td>1</td>\n",
       "      <td>10</td>\n",
       "    </tr>\n",
       "    <tr>\n",
       "      <th>6</th>\n",
       "      <td>7</td>\n",
       "      <td>1</td>\n",
       "      <td>11</td>\n",
       "    </tr>\n",
       "    <tr>\n",
       "      <th>7</th>\n",
       "      <td>8</td>\n",
       "      <td>1</td>\n",
       "      <td>12</td>\n",
       "    </tr>\n",
       "    <tr>\n",
       "      <th>8</th>\n",
       "      <td>9</td>\n",
       "      <td>2</td>\n",
       "      <td>1</td>\n",
       "    </tr>\n",
       "    <tr>\n",
       "      <th>9</th>\n",
       "      <td>10</td>\n",
       "      <td>2</td>\n",
       "      <td>2</td>\n",
       "    </tr>\n",
       "  </tbody>\n",
       "</table>\n",
       "</div>"
      ],
      "text/plain": [
       "   id  hotel_id  feature_id\n",
       "0   1         1           1\n",
       "1   2         1           2\n",
       "2   3         1           5\n",
       "3   4         1           6\n",
       "4   5         1           7\n",
       "5   6         1          10\n",
       "6   7         1          11\n",
       "7   8         1          12\n",
       "8   9         2           1\n",
       "9  10         2           2"
      ]
     },
     "execution_count": 132,
     "metadata": {},
     "output_type": "execute_result"
    }
   ],
   "source": [
    "df_hotels_features = pd.read_csv('hotels_features.csv')\n",
    "df_hotels_features.head(10)"
   ]
  },
  {
   "cell_type": "code",
   "execution_count": 133,
   "metadata": {},
   "outputs": [
    {
     "data": {
      "text/html": [
       "<pre>Warning: Ignoring columns id, score;</pre>"
      ],
      "text/plain": [
       "Warning: Ignoring columns id, score;"
      ]
     },
     "metadata": {},
     "output_type": "display_data"
    },
    {
     "data": {
      "text/html": [
       "<pre>    To use one of these as a target column, set target = <column_name></pre>"
      ],
      "text/plain": [
       "    To use one of these as a target column, set target = <column_name>"
      ]
     },
     "metadata": {},
     "output_type": "display_data"
    },
    {
     "data": {
      "text/html": [
       "<pre>    and use a method that allows the use of a target.</pre>"
      ],
      "text/plain": [
       "    and use a method that allows the use of a target."
      ]
     },
     "metadata": {},
     "output_type": "display_data"
    },
    {
     "data": {
      "text/html": [
       "<pre>Preparing data set.</pre>"
      ],
      "text/plain": [
       "Preparing data set."
      ]
     },
     "metadata": {},
     "output_type": "display_data"
    },
    {
     "data": {
      "text/html": [
       "<pre>    Data has 21 observations with 7 users and 7 items.</pre>"
      ],
      "text/plain": [
       "    Data has 21 observations with 7 users and 7 items."
      ]
     },
     "metadata": {},
     "output_type": "display_data"
    },
    {
     "data": {
      "text/html": [
       "<pre>    Data prepared in: 0.003271s</pre>"
      ],
      "text/plain": [
       "    Data prepared in: 0.003271s"
      ]
     },
     "metadata": {},
     "output_type": "display_data"
    },
    {
     "data": {
      "text/html": [
       "<pre>Training model from provided data.</pre>"
      ],
      "text/plain": [
       "Training model from provided data."
      ]
     },
     "metadata": {},
     "output_type": "display_data"
    },
    {
     "data": {
      "text/html": [
       "<pre>Gathering per-item and per-user statistics.</pre>"
      ],
      "text/plain": [
       "Gathering per-item and per-user statistics."
      ]
     },
     "metadata": {},
     "output_type": "display_data"
    },
    {
     "data": {
      "text/html": [
       "<pre>+--------------------------------+------------+</pre>"
      ],
      "text/plain": [
       "+--------------------------------+------------+"
      ]
     },
     "metadata": {},
     "output_type": "display_data"
    },
    {
     "data": {
      "text/html": [
       "<pre>| Elapsed Time (Item Statistics) | % Complete |</pre>"
      ],
      "text/plain": [
       "| Elapsed Time (Item Statistics) | % Complete |"
      ]
     },
     "metadata": {},
     "output_type": "display_data"
    },
    {
     "data": {
      "text/html": [
       "<pre>+--------------------------------+------------+</pre>"
      ],
      "text/plain": [
       "+--------------------------------+------------+"
      ]
     },
     "metadata": {},
     "output_type": "display_data"
    },
    {
     "data": {
      "text/html": [
       "<pre>| 601us                          | 100        |</pre>"
      ],
      "text/plain": [
       "| 601us                          | 100        |"
      ]
     },
     "metadata": {},
     "output_type": "display_data"
    },
    {
     "data": {
      "text/html": [
       "<pre>+--------------------------------+------------+</pre>"
      ],
      "text/plain": [
       "+--------------------------------+------------+"
      ]
     },
     "metadata": {},
     "output_type": "display_data"
    },
    {
     "data": {
      "text/html": [
       "<pre>Setting up lookup tables.</pre>"
      ],
      "text/plain": [
       "Setting up lookup tables."
      ]
     },
     "metadata": {},
     "output_type": "display_data"
    },
    {
     "data": {
      "text/html": [
       "<pre>Processing data in one pass using dense lookup tables.</pre>"
      ],
      "text/plain": [
       "Processing data in one pass using dense lookup tables."
      ]
     },
     "metadata": {},
     "output_type": "display_data"
    },
    {
     "data": {
      "text/html": [
       "<pre>+-------------------------------------+------------------+-----------------+</pre>"
      ],
      "text/plain": [
       "+-------------------------------------+------------------+-----------------+"
      ]
     },
     "metadata": {},
     "output_type": "display_data"
    },
    {
     "data": {
      "text/html": [
       "<pre>| Elapsed Time (Constructing Lookups) | Total % Complete | Items Processed |</pre>"
      ],
      "text/plain": [
       "| Elapsed Time (Constructing Lookups) | Total % Complete | Items Processed |"
      ]
     },
     "metadata": {},
     "output_type": "display_data"
    },
    {
     "data": {
      "text/html": [
       "<pre>+-------------------------------------+------------------+-----------------+</pre>"
      ],
      "text/plain": [
       "+-------------------------------------+------------------+-----------------+"
      ]
     },
     "metadata": {},
     "output_type": "display_data"
    },
    {
     "data": {
      "text/html": [
       "<pre>| 930us                               | 12               | 0               |</pre>"
      ],
      "text/plain": [
       "| 930us                               | 12               | 0               |"
      ]
     },
     "metadata": {},
     "output_type": "display_data"
    },
    {
     "data": {
      "text/html": [
       "<pre>| 1.237ms                             | 100              | 7               |</pre>"
      ],
      "text/plain": [
       "| 1.237ms                             | 100              | 7               |"
      ]
     },
     "metadata": {},
     "output_type": "display_data"
    },
    {
     "data": {
      "text/html": [
       "<pre>+-------------------------------------+------------------+-----------------+</pre>"
      ],
      "text/plain": [
       "+-------------------------------------+------------------+-----------------+"
      ]
     },
     "metadata": {},
     "output_type": "display_data"
    },
    {
     "data": {
      "text/html": [
       "<pre>Finalizing lookup tables.</pre>"
      ],
      "text/plain": [
       "Finalizing lookup tables."
      ]
     },
     "metadata": {},
     "output_type": "display_data"
    },
    {
     "data": {
      "text/html": [
       "<pre>Generating candidate set for working with new users.</pre>"
      ],
      "text/plain": [
       "Generating candidate set for working with new users."
      ]
     },
     "metadata": {},
     "output_type": "display_data"
    },
    {
     "data": {
      "text/html": [
       "<pre>Finished training in 0.002057s</pre>"
      ],
      "text/plain": [
       "Finished training in 0.002057s"
      ]
     },
     "metadata": {},
     "output_type": "display_data"
    }
   ],
   "source": [
    "training_data, validation_data = tc.recommender.util.random_split_by_user(df_users_hotels, 'user_id', 'hotel_id')\n",
    "model = tc.recommender.create(training_data, 'user_id', 'hotel_id')"
   ]
  },
  {
   "cell_type": "code",
   "execution_count": 151,
   "metadata": {},
   "outputs": [
    {
     "data": {
      "text/plain": [
       "['Hotel_7', 'Hotel_3', 'Hotel_4']"
      ]
     },
     "execution_count": 151,
     "metadata": {},
     "output_type": "execute_result"
    }
   ],
   "source": [
    "def hotel_commendation(user_name):\n",
    "    '''\n",
    "    input: User's name\n",
    "    output:  3 hotels that may be of interest to the user\n",
    "    '''\n",
    "    user_id = df_users.loc[df_users['name']==user_name, 'id'].iloc[0]\n",
    "    results = model.recommend(users=[user_id], k=3)\n",
    "    lis = []\n",
    "    for i in results['hotel_id']:\n",
    "        lis.append(df_hotels.loc[df_hotels['id']==i, 'name'].iloc[0])\n",
    "    return lis\n",
    "\n",
    "hotel_commendation('Ivaldo')\n",
    "\n"
   ]
  },
  {
   "cell_type": "code",
   "execution_count": 147,
   "metadata": {},
   "outputs": [
    {
     "data": {
      "text/plain": [
       "['Free_Internet', 'Breakfast', 'Laundry_service', 'Multilingual_Staff']"
      ]
     },
     "execution_count": 147,
     "metadata": {},
     "output_type": "execute_result"
    }
   ],
   "source": [
    "def hotel_features(hotel_name):\n",
    "    '''\n",
    "    imput : hotel name\n",
    "    output : list of feature's names in the hotel\n",
    "    '''\n",
    "    # extract column value based on another column \n",
    "    hotel_id = df_hotels.loc[df_hotels['name'] == 'Hotel_3', 'id'].iloc[0] \n",
    "    features = df_hotels_features.loc[df_hotels_features['hotel_id'] == hotel_id, 'feature_id'].values\n",
    "    \n",
    "    lis = []\n",
    "    for i in features:\n",
    "        lis.append(df_features.loc[df_features['id']==i, 'name'].iloc[0])\n",
    "    return lis    \n",
    "hotel_features('Hotel_7')"
   ]
  },
  {
   "cell_type": "markdown",
   "metadata": {},
   "source": [
    "### Export the model in Core ML format"
   ]
  },
  {
   "cell_type": "code",
   "execution_count": 148,
   "metadata": {},
   "outputs": [
    {
     "name": "stdout",
     "output_type": "stream",
     "text": [
      "This model is exported as a custom Core ML model. In order to use it in your\n",
      "application, you must also include \"libRecommender.dylib\". For additional\n",
      "details see:\n",
      "https://apple.github.io/turicreate/docs/userguide/recommender/coreml-deployment.html\n"
     ]
    }
   ],
   "source": [
    "model.export_coreml(\"MyRecommender.mlmodel\")"
   ]
  },
  {
   "cell_type": "markdown",
   "metadata": {},
   "source": [
    "### Saving and loading models\n",
    "\n",
    "The model can be saved for later use, either on the local machine or in an AWS S3 bucket. The saved model sits in its own directory, and can be loaded back in later to make more predictions.\n",
    "```python\n",
    "model.save(\"my_model.model\")\n",
    "```\n",
    "Like other models in Turi Create, we can load the model back:\n",
    "```python\n",
    "model = tc.load_model(\"my_model.model\")\n",
    "```                   "
   ]
  },
  {
   "cell_type": "markdown",
   "metadata": {},
   "source": [
    "## References\n",
    "\n",
    "- [Writing CSV files in Python](https://www.programiz.com/python-programming/working-csv-files#writing-csv-into-dictionary)\n",
    "- [Recommender systems by Turi Create](https://apple.github.io/turicreate/docs/userguide/recommender/)"
   ]
  }
 ],
 "metadata": {
  "kernelspec": {
   "display_name": "Python 2",
   "language": "python",
   "name": "python2"
  },
  "language_info": {
   "codemirror_mode": {
    "name": "ipython",
    "version": 2
   },
   "file_extension": ".py",
   "mimetype": "text/x-python",
   "name": "python",
   "nbconvert_exporter": "python",
   "pygments_lexer": "ipython2",
   "version": "2.7.15"
  }
 },
 "nbformat": 4,
 "nbformat_minor": 2
}
